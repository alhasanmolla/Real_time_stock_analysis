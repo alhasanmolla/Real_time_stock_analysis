{
 "cells": [
  {
   "cell_type": "code",
   "execution_count": 4,
   "id": "e13d8e14",
   "metadata": {},
   "outputs": [],
   "source": [
    "import findspark\n",
    "findspark.init()\n",
    "findspark.find()\n",
    "import pyspark"
   ]
  },
  {
   "cell_type": "markdown",
   "id": "9a2b3d42",
   "metadata": {},
   "source": [
    "# 1. Initialize SparkSession:\n"
   ]
  },
  {
   "cell_type": "code",
   "execution_count": 5,
   "id": "22c623c9",
   "metadata": {},
   "outputs": [],
   "source": [
    "from pyspark.sql import SparkSession\n",
    "\n",
    "spark = SparkSession.builder.appName(\"My Spark Application\").getOrCreate()"
   ]
  },
  {
   "cell_type": "markdown",
   "id": "e567851b",
   "metadata": {},
   "source": [
    "# 2. Create a DataFrame:"
   ]
  },
  {
   "cell_type": "code",
   "execution_count": 11,
   "id": "b9ac9fc8",
   "metadata": {},
   "outputs": [],
   "source": [
    "# Sample data\n",
    "data = [(\"Alice\", 1, \"New York\"),\n",
    "        (\"Bob\", 2, \"London\"),\n",
    "        (\"Charlie\", 3, \"Paris\")]\n",
    "\n",
    "# Define schema\n",
    "schema = [\"Name\", \"ID\", \"City\"]\n",
    "\n",
    "# Create DataFrame\n",
    "df = spark.createDataFrame(data, schema=schema)"
   ]
  },
  {
   "cell_type": "code",
   "execution_count": 12,
   "id": "fc89228c",
   "metadata": {},
   "outputs": [
    {
     "name": "stdout",
     "output_type": "stream",
     "text": [
      "+-------+---+--------+\n",
      "|   Name| ID|    City|\n",
      "+-------+---+--------+\n",
      "|  Alice|  1|New York|\n",
      "|    Bob|  2|  London|\n",
      "|Charlie|  3|   Paris|\n",
      "+-------+---+--------+\n",
      "\n"
     ]
    }
   ],
   "source": [
    "df.show()"
   ]
  },
  {
   "cell_type": "markdown",
   "id": "9ebc5a51",
   "metadata": {},
   "source": [
    "# 3. Perform Transformations:\n"
   ]
  },
  {
   "cell_type": "code",
   "execution_count": 13,
   "id": "8e281db4",
   "metadata": {},
   "outputs": [],
   "source": [
    "# Select specific columns\n",
    "selected_df = df.select(\"Name\", \"City\")\n",
    "\n",
    "# Filter rows based on a condition\n",
    "filtered_df = df.filter(df.ID > 1)"
   ]
  },
  {
   "cell_type": "markdown",
   "id": "a4ac9058",
   "metadata": {},
   "source": [
    "# 4. Perform Actions and Show Results:"
   ]
  },
  {
   "cell_type": "code",
   "execution_count": 14,
   "id": "861c9d2e",
   "metadata": {},
   "outputs": [
    {
     "name": "stdout",
     "output_type": "stream",
     "text": [
      "+-------+---+--------+\n",
      "|   Name| ID|    City|\n",
      "+-------+---+--------+\n",
      "|  Alice|  1|New York|\n",
      "|    Bob|  2|  London|\n",
      "|Charlie|  3|   Paris|\n",
      "+-------+---+--------+\n",
      "\n",
      "+-------+--------+\n",
      "|   Name|    City|\n",
      "+-------+--------+\n",
      "|  Alice|New York|\n",
      "|    Bob|  London|\n",
      "|Charlie|   Paris|\n",
      "+-------+--------+\n",
      "\n",
      "+-------+---+------+\n",
      "|   Name| ID|  City|\n",
      "+-------+---+------+\n",
      "|    Bob|  2|London|\n",
      "|Charlie|  3| Paris|\n",
      "+-------+---+------+\n",
      "\n",
      "Total number of rows: 3\n"
     ]
    }
   ],
   "source": [
    "# Show the DataFrame content\n",
    "df.show()\n",
    "selected_df.show()\n",
    "filtered_df.show()\n",
    "\n",
    "# Count the number of rows\n",
    "row_count = df.count()\n",
    "print(f\"Total number of rows: {row_count}\")"
   ]
  },
  {
   "cell_type": "markdown",
   "id": "ad0d5745",
   "metadata": {},
   "source": [
    "# 5. Stop SparkSession:\n"
   ]
  },
  {
   "cell_type": "code",
   "execution_count": null,
   "id": "eafe3aeb",
   "metadata": {},
   "outputs": [],
   "source": [
    "# Stop the SparkSession\n",
    "# spark.stop()"
   ]
  },
  {
   "cell_type": "code",
   "execution_count": 3,
   "id": "73c73032",
   "metadata": {},
   "outputs": [],
   "source": [
    "import os\n",
    "os.environ[\"HADOOP_OPTIONAL_TOOLS\"] = \"hadoop-tools\"\n",
    "os.environ[\"HADOOP_OPTS\"] = \"-Djava.library.path=A:/hadoop/bin\"\n",
    "os.environ[\"spark.hadoop.io.nativeio.NativeIO$Windows.access0\"] = \"false\"\n"
   ]
  },
  {
   "cell_type": "code",
   "execution_count": null,
   "id": "84f8d05f",
   "metadata": {},
   "outputs": [],
   "source": []
  }
 ],
 "metadata": {
  "kernelspec": {
   "display_name": "venv (3.11.9)",
   "language": "python",
   "name": "python3"
  },
  "language_info": {
   "codemirror_mode": {
    "name": "ipython",
    "version": 3
   },
   "file_extension": ".py",
   "mimetype": "text/x-python",
   "name": "python",
   "nbconvert_exporter": "python",
   "pygments_lexer": "ipython3",
   "version": "3.11.9"
  }
 },
 "nbformat": 4,
 "nbformat_minor": 5
}
